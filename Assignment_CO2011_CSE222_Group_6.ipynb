{
  "cells": [
    {
      "cell_type": "code",
      "execution_count": null,
      "metadata": {},
      "outputs": [],
      "source": []
    },
    {
      "cell_type": "markdown",
      "metadata": {
        "colab_type": "text",
        "id": "view-in-github"
      },
      "source": [
        "<a href=\"https://colab.research.google.com/github/hwanzar/dynamic-of-love/blob/main/Assignment_CO2011_CSE222_Group_6.ipynb\" target=\"_parent\"><img src=\"https://colab.research.google.com/assets/colab-badge.svg\" alt=\"Open In Colab\"/></a>"
      ]
    },
    {
      "cell_type": "markdown",
      "metadata": {
        "id": "p-UFRnUrZP6i"
      },
      "source": [
        "\n",
        "\n",
        "---\n",
        "\n",
        "*This answer sheet is used for answering the excercises of the assignment \"Dynamics of Love\" (Semester 2/Academic Year 2022-2023) - © Thinh Nguyen*\n",
        "\n",
        "*Student(s):*\n",
        "$$\n",
        "\\begin{array}{lllll}\n",
        "\\hline\n",
        "\\textbf{No.} & \\textbf{Fullname} & \\textbf{ID} & \\textbf{Group} & \\textbf{Contribution}\\\\\n",
        "\\hline\n",
        "1 & \\textrm{Nguyen Vu Khanh} & 2153444 & \\textrm{CC01} & 25\\% \\\\\n",
        "2 & \\textrm{Nguyen Duc Bao Huy} & 2153089 & \\textrm{CC01} & 25\\% \\\\\n",
        "3 & \\textrm{Dang Hoang Gia} & 2153312 & \\textrm{CC01} & 25\\% \\\\\n",
        "4 & \\textrm{Hoang Tien Duc} & 2152520 & \\textrm{CC01} & 25\\% \\\\\n",
        "\\hline\n",
        "\\end{array}\n",
        "$$\n",
        "\n",
        "\\\\\n",
        "\n",
        "For these exercises use the following system of ODEs (Ordinary Differential Equations)\n",
        "$$\n",
        "\\begin{cases}\n",
        "  \\dot{\\textbf{x}} = \\textbf{f}(t, \\textbf{x}),\\\\\n",
        "  \\textbf{x}(0) = \\textbf{x}_0,\n",
        "\\end{cases}\n",
        "$$\n",
        "where $\\textbf{x}=\\textbf{x}(t)$ a 2-dimensional real vector dependent on time $t\\ge 0$ and $\\textbf{f}$ is a 2-dimensional real-vector-valued function dependent on time $t$ and $\\textbf{x}$. As an example, $\\textbf{f}(t, \\textbf{x})=A\\textbf{x}$, where $A$ is a constant $2\\times 2$ matrix with real entries.\n",
        "\n",
        "Let's call the system above system (1).\n",
        "\n",
        "---\n",
        "\n"
      ]
    },
    {
      "cell_type": "code",
      "execution_count": 1,
      "metadata": {
        "id": "IxNeh21snm8x"
      },
      "outputs": [],
      "source": [
        "#Leave this empty!"
      ]
    },
    {
      "cell_type": "code",
      "execution_count": 2,
      "metadata": {
        "id": "wKqpfbPQniNT"
      },
      "outputs": [],
      "source": [
        "#Leave this empty!"
      ]
    },
    {
      "cell_type": "markdown",
      "metadata": {
        "id": "osg7nJXD2h3y"
      },
      "source": [
        "**Important notes:**\n",
        "\n",
        "\n",
        "*   For each small question, if the answer is not complete, the score of the answer will be **50% of the score of the complete part of the answer**. If the answer is not readable, the score of it will be **0**.\n",
        "*   For Exercise 4, use only the libraries numpy and matplotlib. For the function *jacobian_x* and the function *solve_system*, do not use any function that are similar to them provided in numpy.\n",
        "\n"
      ]
    },
    {
      "cell_type": "code",
      "execution_count": 3,
      "metadata": {
        "id": "9P2sndbB9DWQ"
      },
      "outputs": [],
      "source": [
        "#Leave this empty!"
      ]
    },
    {
      "cell_type": "markdown",
      "metadata": {
        "id": "zarick9ZSEM2"
      },
      "source": [
        "# **Exercise 1 (*2.0 points*)**"
      ]
    },
    {
      "cell_type": "markdown",
      "metadata": {
        "id": "69BsYkDqTDmV"
      },
      "source": [
        "1) Find the 3 formulae of the exact solution to the system (1) in the constant linear case where $\\textbf{f}(t, \\textbf{x})=A\\textbf{x}$ in terms of the eigenvalues $\\lambda_1$ and $\\lambda_2$ of $A$. All of the coefficients must be written explicitly without leading to any equation! (*1.0 point*)\n",
        "\n",
        "> Indented block\n",
        "\n"
      ]
    },
    {
      "attachments": {},
      "cell_type": "markdown",
      "metadata": {
        "id": "k_iIH7T8W_GG"
      },
      "source": [
        "_Answer:_\n",
        "The system of formula need to solve is:\n",
        "\n",
        "$$\n",
        "\\begin{equation}\n",
        "\\begin{cases}\n",
        "  \\dot{u}=Au\\\\\n",
        "    u(0)=u_0\n",
        "\\end{cases}\n",
        "\\end{equation}\n",
        "$$\n",
        "\n",
        "Where $A=\\begin{pmatrix}a & b \\\\ c & d \\end{pmatrix}$, $u=\\begin{pmatrix}R & J\\end{pmatrix}^T$ and $u_{0}=\\begin{pmatrix}R_{0} & J_{0}\\end{pmatrix}^T$.\n",
        "\n",
        "1.  $\\lambda_1, \\lambda_2\\in\\mathbb R, \\lambda_1\\ne \\lambda_2$:\n",
        "\n",
        "$$\n",
        "\\begin{equation}\n",
        "  \\textbf{x}(t)=   c_1v_1e^{\\lambda_1t}+c_2v_2e^{\\lambda_2t}           \\quad \\tag{2}\n",
        "\\end{equation}\n",
        "$$\n",
        "\n",
        "Where:\n",
        "\n",
        "$$\n",
        "\\begin{cases}\n",
        "\\lambda_1 =\\dfrac{(a+d)- \\sqrt{\\triangle}}{2}   \\\\ \\\\\n",
        "\\lambda_2 =\\dfrac{(a+d)+ \\sqrt{\\triangle}}{2}   \\\\ \\\\\n",
        " c_1=\\dfrac{-2bJ_0-(a-d-\\sqrt{\\triangle})R_0}{2\\sqrt{\\triangle}}     \\\\ \\\\\n",
        " c_2=\\dfrac{2bJ_0+(a-d+\\sqrt{\\triangle})R_0}{2\\sqrt{\\triangle}}\\\\ \\\\\n",
        " v_1=\\begin{pmatrix}\n",
        "1 & \\dfrac{(d-a)-\\sqrt{\\triangle}}{2b}\n",
        "\\end{pmatrix}^T\\\\ \\\\\n",
        " v_2=\\begin{pmatrix}\n",
        "1& \\dfrac{(d-a)+\\sqrt{\\triangle}}{2b}\n",
        "\\end{pmatrix}^T       \\quad \\tag{3}\n",
        "\\end{cases}\n",
        "$$\n",
        "\n",
        "And, the solution of $R(t)$ and $J(t)$ are:\n",
        "\n",
        "$$\n",
        "\\begin{equation}\n",
        "  \\begin{cases}\n",
        "   &  R(t)=c_1v_{11}e^{\\lambda_1 t}+c_2v_{12}e^{\\lambda_2 t}=\\dfrac{-2bJ_0-(a-d-\\sqrt{\\triangle})R_0}{2\\sqrt{\\triangle}}.e^{t\\left[\\frac{(a+d)+ \\sqrt{(\\triangle)}}{2}\\right]} + \\dfrac{2bJ_0+(a-d+\\sqrt{\\triangle})R_0}{2\\sqrt{\\triangle}}. e^{t\\left[\\frac{(a+d)-\\sqrt{(\\triangle)}}{2}\\right]}          \\\\\n",
        "   \\\\\n",
        "   & J(t)=c_1v_{21}e^{\\lambda_1 t}+c_2v_{22}e^{\\lambda_2 t}=(d-a-\\sqrt{\\triangle})\\dfrac{-2bJ_0-(a-d-\\sqrt{\\triangle})R_0}{4b\\sqrt{\\triangle}}.e^{t\\left[\\frac{(a+d)+ \\sqrt{(\\triangle)}}{2}\\right]} + (d-a-\\sqrt{\\triangle})\\dfrac{2bJ_0+(a-d+\\sqrt{\\triangle})R_0}{4b\\sqrt{\\triangle}}. e^{t\\left[\\frac{(a+d)-\\sqrt{(\\triangle)}}{2}\\right]}   \\quad \\tag{4}\n",
        "  \\end{cases}\n",
        "\\end{equation}\n",
        "$$\n",
        "\n",
        "\\\n",
        "2. $\\lambda_1, \\lambda_2\\in\\mathbb R, \\lambda_1=\\lambda_2$:\n",
        "\n",
        "- If there is only 1 eigenvector $v_1=\\begin{pmatrix}v_{11}&v_{12} \\end{pmatrix}^T$ $\\implies$ $v_2=\\begin{pmatrix}v_{21} & v_{22} \\end{pmatrix}^T$ is the solution of $(\\lambda I-A)v_2=v_1$.\n",
        "\n",
        "\n",
        "$$\n",
        "\\textbf{x}(t) = c_1v_1e^{\\lambda t}+c_2(v_1t+v_2)e^{\\lambda t}     \\quad \\tag{5}\n",
        "$$\n",
        "\n",
        "Where:\n",
        "\n",
        "$$\n",
        "\\begin{cases}\n",
        "\\lambda =\\dfrac{a+d}{2}   \\\\ \\\\\n",
        " c_1=\\dfrac{1}{2}(a-d+2)R_0+bJ_0     \\\\ \\\\\n",
        " c_2=    \\dfrac{1}{2}(-a+d)R_0-bJ_0         \\\\ \\\\\n",
        " v_1= \\begin{pmatrix}1 & \\dfrac{d-a}{2b}\\end{pmatrix}^T        \\\\ \\\\\n",
        " v_2=   \\begin{pmatrix}1 & \\dfrac{d-a-2}{2b}\\end{pmatrix}^T      \\quad \\tag{6}\n",
        "\\end{cases}\n",
        "$$\n",
        "\n",
        "And:\n",
        "\n",
        "$$\n",
        "\\begin{equation}\n",
        "  \\begin{cases}\n",
        "   &  R(t)=[c_1v_{11}+c_2(v_{11}t+v_{12})]e^{\\lambda t}=\\left(R_0 +\\left[\\dfrac{1}{2}(-a+d)R_0-bJ_0\\right]t\\right)      .e^{t\\left(\\frac{a+d}{2}\\right)}       \\\\ \\\\\n",
        "   &J(t)=[c_1v_{12}+c_2(v_{12}t+v_{22})]e^{\\lambda t}=\\left(J_0+ \\left[\\dfrac{(a-d)^2}{4b}R_0+\\dfrac{a-d}{2}J_0\\right]t\\right).                  e^{t\\left(\\frac{a+d}{2}\\right)}\n",
        "  \\end{cases} \\quad \\tag{7}\n",
        "\\end{equation}\n",
        "$$\n",
        "\n",
        "- If there are 2 eigenvectors $v_1=\\begin{pmatrix}v_{11}&v_{12} \\end{pmatrix}^T$, $v_2=\\begin{pmatrix}v_{21} & v_{22} \\end{pmatrix}^T$:\n",
        "\n",
        "\n",
        "  $$\n",
        "  \\textbf{x}(t) = R_0\\begin{pmatrix}1 & 0\\end{pmatrix}^T.e^{t\\left(\\frac{a+d}{2}\\right)}+J_0\\begin{pmatrix}0 & 1\\end{pmatrix}^T.e^{t\\left(\\frac{a+d}{2}\\right)}\\quad \\tag{8}\n",
        "  $$\n",
        "\n",
        "\\\n",
        "So, the solution of $R(t)$ and $J(t)$ are:\n",
        "\n",
        "$$\n",
        "\\begin{equation}\n",
        "  \\begin{cases}\n",
        "   &  R(t)=(c_1v_{11}+c_2v_{12})e^{\\lambda t}=R_0       .e^{t\\left(\\frac{a+d}{2}\\right)}       \\\\\n",
        "   &J(t)=(c_1v_{21}+c_2v_{22})e^{\\lambda t}=J_0.e^{t\\left(\\frac{a+d}{2}\\right)}\n",
        "  \\end{cases} \\quad \\tag{9}\n",
        "\\end{equation}\n",
        "$$\n",
        "\n",
        "3. $\\lambda_1, \\lambda_2\\in\\mathbb C, \\lambda_1= x+yi, \\lambda_2=x-yi$:\n",
        "\n",
        "$$\n",
        "\\textbf{x}(t) =[c_1(v_1cos(yt)-v_2sin(yt))+c_2(v_2cos(yt)+v_1sin(yt))].e^{xt}\\quad \\tag{10}\n",
        "$$\n",
        "\n",
        "Where:\n",
        "\n",
        "$$\n",
        "\\begin{cases}\n",
        " x=\\dfrac{a+d}{2}\\\\ \\\\\n",
        " y=\\dfrac{\\sqrt{-\\triangle}}{2}\\\\ \\\\\n",
        " c_1=R_0\\\\ \\\\\n",
        " c_2=\\dfrac{2bJ_0+(a-d)R_0}{\\sqrt{-\\triangle}}\\\\ \\\\\n",
        " v_1=\\begin{pmatrix}1 & \\dfrac{d-a}{2b}\\end{pmatrix}^T\\\\ \\\\\n",
        " v_2=\\begin{pmatrix}0 & \\dfrac{-\\triangle}{2}\\end{pmatrix}^T\\quad \\tag{11}\n",
        "\\end{cases}\n",
        "$$\n",
        "\n",
        "And, the solution of $R(t)$ and $J(t)$ is::\n",
        "\n",
        "$$\n",
        "\\begin{cases}\n",
        "R(t)=[c_1(v_{11}cos(yt)-v_{12}sin(yt))+c_2(v_{12} cos(yt)+v_{11}sin(yt))].e^{xt}\\\\  \\\\ \\hspace{0.77cm}= \\left[R_0.cos\\left(\\dfrac{\\sqrt{-\\triangle}}{2}t \\right)+\\dfrac{(a-d)R_0+2bJ_0}{\\sqrt{-\\triangle}}sin\\left(\\dfrac{\\sqrt{-\\triangle}}{2}t \\right)\\right].e^{t\\left(\\frac{a+d}{2}\\right)}\\\\ \\\\\n",
        "J(t)=[c_1(v_{21}cos(yt)-v_{22}sin(yt))+c_2(v_{22} cos(yt)+v_{21}sin(yt))].e^{xt}\\\\  \\\\ \\hspace{0.77cm}=\\left[J_0.cos\\left(\\dfrac{\\sqrt{-\\triangle}}{2}t \\right) +\\dfrac{2cR_0-(a-d)J_0}{\\sqrt{-\\triangle}}sin\\left(\\dfrac{\\sqrt{-\\triangle}}{2}t \\right)\\right].e^{t\\left(\\frac{a+d}{2}\\right)}\\quad \\tag{12}\n",
        "\\end{cases}\n",
        "$$\n"
      ]
    },
    {
      "cell_type": "markdown",
      "metadata": {
        "id": "c4Gozsu8bapr"
      },
      "source": [
        "2) Complete the phase-portrait table with these types: Spiral, Center, Saddle, and Node. (*1.0 point*)"
      ]
    },
    {
      "cell_type": "markdown",
      "metadata": {
        "id": "61Ik5oHfkkmW"
      },
      "source": [
        "*Answer:*\n",
        "\n",
        "$$\n",
        "\\begin{array}{ccccc}\n",
        "\\hline\n",
        "\\textrm{Re}\\,\\lambda_1 & \\textrm{Re}\\,\\lambda_2 & |\\textrm{Im}\\,\\lambda_1| & |\\textrm{Im}\\,\\lambda_2| & \\textbf{Type}\\\\\n",
        "\\hline\n",
        "+ & + & 0 & 0 & \\text{Unstable Node}\\\\\n",
        "+ & - & 0 & 0 & \\text{Saddle}\\\\\n",
        "- & - & 0 & 0 & \\text{Stable Node}\\\\\n",
        "+ & 0 & 0 & 0 & \\text{Unstable fixed line}\\\\\n",
        "- & 0 & 0 & 0 & \\text{Stable fixed line}\\\\\n",
        "+ & + & + & + & \\text{Spiral Out - Unstable}\\\\\n",
        "- & - & + & + & \\text{Spiral In - Stable}\\\\\n",
        "0 & 0 & + & + & \\text{Center}\\\\\n",
        "\\hline\n",
        "\\end{array}\n",
        "$$"
      ]
    },
    {
      "cell_type": "code",
      "execution_count": null,
      "metadata": {
        "id": "y7nld6nM9NoL"
      },
      "outputs": [],
      "source": [
        "#Leave this empty!"
      ]
    },
    {
      "cell_type": "markdown",
      "metadata": {
        "id": "NDRhKBKTSIkS"
      },
      "source": [
        "# **Exercise 2 (*4.0 points*)**"
      ]
    },
    {
      "cell_type": "markdown",
      "metadata": {
        "id": "dv91u7y4qYoH"
      },
      "source": [
        "*1*) Give 5 examples of the coefficient matrix $A$ and initial condition $\\textbf{x}_0$. Then use the formulae in Exercise 1 to find the solution $\\textbf{x}$ explicitly. (*1.0 point*) "
      ]
    },
    {
      "attachments": {},
      "cell_type": "markdown",
      "metadata": {
        "id": "OXRDzG4qtLCc"
      },
      "source": [
        "*Answer:*\n",
        "\n",
        "\n",
        "0.   Sample example: $A = \\begin{pmatrix} 1 & -1 \\\\ 2 & 1 \\end{pmatrix}$ and $\\textbf{x}_0 = \\begin{pmatrix}1 \\\\ 1\\end{pmatrix}$. Solution is\n",
        "$$\n",
        "  \\textbf{x}(t) =\\Biggl[\\big(\\begin{smallmatrix}1 \\\\ 0\\end{smallmatrix}\\big) cos(2t)-\\big(\\begin{smallmatrix}0 \\\\ 4\\end{smallmatrix}\\big)sin(2t)+ \\frac{- \\sqrt{2}}{2}\\Bigl(\\big(\\begin{smallmatrix} 0 \\\\ 4 \\end{smallmatrix}\\big)cos(2t)+ \\big(\\begin{smallmatrix}1 \\\\ 0\\end{smallmatrix}\\big)sin(2t)\\Bigl)\\Biggl].e^{t}\\quad \\tag{8}\n",
        "$$\n",
        "1.   Example 1: $A = \\begin{pmatrix} 4 & 2 \\\\ 1 & 3 \\end{pmatrix}$ and $\\textbf{x}_0 = \\begin{pmatrix} -3 \\\\ 6\\end{pmatrix}$. Solution is\n",
        "$$ \\textbf{x}(t) = 4\\big(\\begin{smallmatrix}1 \\\\ -1\\end{smallmatrix}\\big)e^{2t} + 2\\big(\\begin{smallmatrix}1 \\\\ 0.5\\end{smallmatrix}\\big)e^{5t}$$\n",
        "2.   Example 2: $A = \\begin{pmatrix} 9 & -4 \\\\ 1 & 5 \\end{pmatrix}$ and $\\textbf{x}_0 = \\begin{pmatrix} 5 \\\\ 3\\end{pmatrix}$. Solution is\n",
        "$$ \\textbf{x}(t) = 3\\big(\\begin{smallmatrix}1 \\\\ 0.5\\end{smallmatrix}\\big)e^{7t} + 2\\Big(\\big(\\begin{smallmatrix}1 \\\\ 0.5\\end{smallmatrix}\\big)t + \\big(\\begin{smallmatrix}1 \\\\ 0.75\\end{smallmatrix}\\big)\\Big)e^{7t}$$\n",
        "3.   Example 3: $A = \\begin{pmatrix} 1 & 2 \\\\ -8 & -3 \\end{pmatrix}$ and $\\textbf{x}_0 = \\begin{pmatrix} 2 \\\\ 1\\end{pmatrix}$. Solution is\n",
        "$$ \\textbf{x}(t) = \\Biggl[\\big(\\begin{smallmatrix} 1 \\\\ -1\\end{smallmatrix}\\big)cos(2 \\sqrt{3}t) - \\big(\\begin{smallmatrix} 0 \\\\ 24\\end{smallmatrix}\\big)sin(2 \\sqrt{3}t) + \\sqrt{3}\\Big(\\big(\\begin{smallmatrix} 0 \\\\ 24\\end{smallmatrix}\\big)cos(2 \\sqrt{3}t) + \\big(\\begin{smallmatrix} 1 \\\\ -1\\end{smallmatrix}\\big)sin(2 \\sqrt{3}t)\\Big)\\Biggl]e^{-t}$$\n",
        "4.   Example 4: $A = \\begin{pmatrix} -3 & \\frac{-2\\sqrt{3}}{3} \\\\ -72\\sqrt{3} & -10 \\end{pmatrix}$ and $\\textbf{x}_0 = \\begin{pmatrix} 10 \\\\ 5\\sqrt{3}\\end{pmatrix}$. Solution is\n",
        "$$ \\textbf{x}(t) =  4\\big(\\begin{smallmatrix}1 \\\\ -0.64\\end{smallmatrix}\\big)e^{-19t} + 6\\big(\\begin{smallmatrix}1 \\\\ 0.36\\end{smallmatrix}\\big)e^{6t}$$\n",
        "5.   Example 5: $A = \\begin{pmatrix} 7 & 0 \\\\ 0 & 5  \\end{pmatrix}$ and $\\textbf{x}_0 = \\begin{pmatrix} 2\\\\ 3\\end{pmatrix}$. Solution is\n",
        "$$\\textbf{x}(t) = 2\\begin{pmatrix}1 & 0\\end{pmatrix}^T.e^{6t}+3\\begin{pmatrix}0 & 1\\end{pmatrix}^T.e^{6t}\\quad \\tag{8}\n",
        "  $$"
      ]
    },
    {
      "cell_type": "markdown",
      "metadata": {
        "id": "YRtyQz0HvY2j"
      },
      "source": [
        "2) Find the formula of the solution to system of \"non-homogeneous\" ODEs\n",
        "$$\n",
        "\\begin{cases}\n",
        "  \\dot{\\textbf{x}} = A\\textbf{x} + \\textbf{f}(t),\\\\\n",
        "  \\textbf{x}(0) = \\textbf{x}_0,\n",
        "\\end{cases}\n",
        "$$\n",
        "where $A$ is a $2\\times 2$ matrix with real entries and $\\textbf{f}$ is a 2-dimensional real-vector-valued function dependent on only $t$. (*1.5 point*)"
      ]
    },
    {
      "attachments": {},
      "cell_type": "markdown",
      "metadata": {
        "id": "fL3ANjclwISD"
      },
      "source": [
        "*Answer:*\n",
        "\n",
        "Solution is\n",
        "$$\n",
        "  \\textbf{x}(t) = \\Phi(t)\\Biggl(X_0 +  \\int_{0}^{t}\\Phi(s)^{-1}f(s)ds\\Biggl),\n",
        "$$\n",
        "where:\n",
        "$$\n",
        "  \\begin{cases}\n",
        "    \\Phi(t) \\textnormal{ is the solution of the homogeneous ODE: } X'(t) = AX(t)\\\\\n",
        "    X_0 = \\Big(\\begin{matrix} R_0 \\\\ J_0 \\end{matrix}\\Big)\\\\\n",
        "    \\Phi(s)^{-1} \\textnormal{ is the inverse matrix of the fundamental matrix } \\Phi(s)\n",
        "  \\end{cases}\n",
        "$$"
      ]
    },
    {
      "cell_type": "markdown",
      "metadata": {
        "id": "Uejhay3rwt5t"
      },
      "source": [
        "3) Give two examples of Exercise 2.2. Then use the formula of the solution to find the solutions to the two examples. (*1.5 point*)"
      ]
    },
    {
      "attachments": {},
      "cell_type": "markdown",
      "metadata": {
        "id": "8dHPQ_CAxINb"
      },
      "source": [
        "*Answer:*\n",
        "\n",
        "\n",
        "\n",
        "0.   Sample example: $A = \\begin{pmatrix} 1 & -1 \\\\ 2 & 1 \\end{pmatrix}$, $\\textbf{f}(t)=\\begin{pmatrix} t, t^2 \\end{pmatrix}$, and $\\textbf{x}_0 = \\begin{pmatrix}1 \\\\ 1\\end{pmatrix}$. Solution is\n",
        "$$\n",
        "  \\textbf{x}(t) = \\begin{pmatrix}e^tcos\\left(\\sqrt{2}t\\right)&e^tsin\\left(\\sqrt{2}t\\right)\\\\ \\:\\:\\:-4e^tsin\\left(\\sqrt{2}t\\right)&4e^tcos\\left(\\sqrt{2}t\\right)\\end{pmatrix}\\Biggl(\\begin{pmatrix} 1 \\\\ 1 \\end{pmatrix} +  \\int_{0}^{t}\\begin{pmatrix}\\frac{\\cos \\left(\\sqrt{2}t\\right)}{e^t}&-\\frac{\\sin \\left(\\sqrt{2}t\\right)}{4e^t}\\\\ \\frac{\\sin \\left(\\sqrt{2}t\\right)}{e^t}&\\frac{\\cos \\left(\\sqrt{2}t\\right)}{4e^t}\\end{pmatrix}\\begin{pmatrix} s \\\\ s^2 \\end{pmatrix}ds\\Biggl) \n",
        "$$\n",
        "1.   Example 1:  $A = \\begin{pmatrix} 1 & 0 \\\\ 1 & 1 \\end{pmatrix}$, $\\textbf{f}(t)=\\begin{pmatrix} e^{t}, -e^{t} \\end{pmatrix}$, and $\\textbf{x}_0 = \\begin{pmatrix}1 \\\\ -1\\end{pmatrix}$. Solution is\n",
        "$$\n",
        "  \\textbf{x}(t) = -e^{t}\\begin{pmatrix} 0 \\\\ 1 \\end{pmatrix} + e^{t}\\begin{pmatrix} 1 \\\\ t \\end{pmatrix} + e^{t}\\begin{pmatrix} t \\\\ 0.5t^{2} - t \\end{pmatrix}\n",
        "$$\n",
        "2.   Example 2:  $A = \\begin{pmatrix} 2 & -1 \\\\ 6 & -3 \\end{pmatrix}$, $\\textbf{f}(t)=\\begin{pmatrix} e^{2t}, e^{t} + 1 \\end{pmatrix}$, and $\\textbf{x}_0 = \\begin{pmatrix}\\frac{4}{3} \\\\ \\frac{5}{2}\\end{pmatrix}$. Solution is\n",
        "$$\n",
        "  \\textbf{x}(t) =  \\begin{pmatrix} 1 \\\\ 2 \\end{pmatrix} + -e^{t}\\begin{pmatrix} 1 \\\\ 3 \\end{pmatrix} + \\begin{pmatrix} \\frac{5}{6}e^{2t} - \\frac{1}{2}e^{t} - t + 1 \\\\ e^{2t} - \\frac{1}{2}e^{t} - 2t + 3 \\end{pmatrix}\n",
        "$$\n",
        "\n"
      ]
    },
    {
      "cell_type": "code",
      "execution_count": null,
      "metadata": {
        "id": "2PpdinV79TYh"
      },
      "outputs": [],
      "source": [
        "#Leave this empty!"
      ]
    },
    {
      "cell_type": "markdown",
      "metadata": {
        "id": "pAHZbbBW9fEY"
      },
      "source": [
        "# **Exercise 3 (*4.0 points*)**"
      ]
    },
    {
      "cell_type": "markdown",
      "metadata": {
        "id": "eZZ2rLdkSjxP"
      },
      "source": [
        "1) Complete the codes below. Do not change the function prototypes! (*2.0 points*)"
      ]
    },
    {
      "cell_type": "code",
      "execution_count": 2,
      "metadata": {
        "id": "YPs0bsDq6f9o"
      },
      "outputs": [],
      "source": [
        "#Do not change these codes!\n",
        "import numpy as np\n",
        "from collections.abc import Callable\n",
        "\n",
        "import matplotlib.pyplot as plt\n",
        "plt.rcParams[\"figure.figsize\"] = (12, 12)\n",
        "\n",
        "Vector = np.array\n",
        "Matrix = np.array\n",
        "Function = Callable[[float, Vector], Vector]"
      ]
    },
    {
      "cell_type": "code",
      "execution_count": 3,
      "metadata": {
        "id": "x2xTYCcB7MO0"
      },
      "outputs": [],
      "source": [
        "#Give 5 examples so that at least 3 of them are nonlinear cases!\n",
        "def example0(t: float, x: Vector) -> Vector:#Do not change this example\n",
        "  \"\"\"\n",
        "  The definition of 2-dimensional real-vector-valued\n",
        "  function f(t, x) in the ODE dx/dt = f(t, x)\n",
        "\n",
        "  t: real number\n",
        "  x: 2-dimensional real vector satisfying the ODE\n",
        "  \"\"\"\n",
        "  constant_case = Matrix([[1., -1.], [2., 1.]], dtype=float)# x' = x - y, y' = 2x + y\n",
        "  return np.matmul(constant_case, x)\n",
        "\n",
        "def example1(t: float, x: Vector) -> Vector:\n",
        "  constant_case = Matrix([[1., -2.], [-2., 1.]], dtype=float)# x'= x - 2y, y' = -2x + y\n",
        "  return np.matmul(constant_case, x)\n",
        "\n",
        "\n",
        "def example2(t: float, x: Vector) -> Vector:\n",
        "  constant_case = Matrix([[-3., 3.], [-2., 1.]], dtype=float)# x'= -3x + 3y, y' = -2x + y\n",
        "  return np.matmul(constant_case, x)\n",
        "\n",
        "\n",
        "def example3(t: float, x: Vector) -> Vector:\n",
        "  x_prime = x[0]**3 - 3*x[0]*x[1]\n",
        "  y_prime = 3*x[0] - x[1]**3\n",
        "  return np.array([x_prime, y_prime], dtype=float) # x' = x^3 - 3xy, y' = 3x - y^3\n",
        "\n",
        "def example4(t: float, x: Vector) -> Vector:\n",
        "\n",
        "    x_prime = np.sin(t) + x[1]**2\n",
        "    y_prime = x[0]**2 + np.cos(t)\n",
        "    return np.array([x_prime, y_prime], dtype=float)# x' = sin(x) + y^2, y' = x^2 + cos(t)\n",
        "\n",
        "def example5(t: float, x: Vector) -> Vector:\n",
        "  x_prime = 2*x[0] - 3*x[1]**2\n",
        "  y_prime = x[0]**2 + x[1]\n",
        "  return np.array([x_prime, y_prime], dtype=float)# x' = 2x - 3y^2, y' = x^2 + y"
      ]
    },
    {
      "cell_type": "code",
      "execution_count": 4,
      "metadata": {
        "id": "tNYLoeDp7f68"
      },
      "outputs": [],
      "source": [
        "#Explicit Euler Algorithm\n",
        "def explicit_euler(f: Function, t: float, x: Vector, h: float) -> Vector:\n",
        "  \"\"\"\n",
        "  The approximate of the exact solution to the ODE dx/dt = f(t, x) at\n",
        "  time t + h, x is the value of the solution at time t, h is the time step\n",
        "\n",
        "  t: real number\n",
        "  h: real number\n",
        "  x: 2-dimensional real vector\n",
        "  f: 2-dimensional real-vector-valued function \n",
        "  \"\"\"\n",
        "  slope = f(t,x)\n",
        "  x_new = x + h*slope\n",
        "  return x_new"
      ]
    },
    {
      "cell_type": "code",
      "execution_count": 5,
      "metadata": {
        "id": "oWHDTHWK7t76"
      },
      "outputs": [
        {
          "data": {
            "image/png": "[encoded data removed]",
            "text/plain": [
              "<Figure size 2000x400 with 2 Axes>"
            ]
          },
          "metadata": {},
          "output_type": "display_data"
        }
      ],
      "source": [
        "#The following functions are used to write the implicit Euler algorithm\n",
        "def jacobian_x(f: Function, t: float, x: Vector, eps=1E-5) -> Matrix:\n",
        "  \"\"\"\n",
        "  Return the numerical approximate of the Jacobian matrix of the\n",
        "  2-dimensional real-vector-valued function f(t, x) with respect to x\n",
        "\n",
        "  t: real number\n",
        "  x: 2-dimensional real vector\n",
        "  eps: infinitesimal constant of the approximation\n",
        "  \"\"\"\n",
        "  slope = f(t,x)\n",
        "  result = Matrix([[0.0, 0.0], [0.0, 0.0]], dtype=float)\n",
        "  result[0][0] = (f(t, [x[0] + eps, x[1]])[0] - slope[0]) / eps\n",
        "  result[1][0] = (f(t, [x[0] + eps, x[1]])[1] - slope[1]) / eps\n",
        "  result[0][1] = (f(t, [x[0], x[1] + eps])[0] - slope[0]) / eps\n",
        "  result[1][1] = (f(t, [x[0], x[1] + eps])[1] - slope[1]) / eps\n",
        "\n",
        "  return result\n",
        "\n",
        "def solve_system(A: Matrix, b: Vector) -> Vector:\n",
        "  \"\"\"\n",
        "  Solution x to the system of linear equations Ax = b\n",
        "\n",
        "  x: 2-dimensional real vector\n",
        "  A: 2x2 matrix with real entries\n",
        "  b: 2-dimensional real vector\n",
        "\n",
        "  If the system does not have a solution, x will be the vector 0.\n",
        "  \n",
        "  \"\"\"\n",
        "  d = A[0][0] * A[1][1] - A[0][1] * A[1][0]\n",
        "  if d == 0:\n",
        "        return np.array([0.0, 0.0], dtype=float)\n",
        "\n",
        "  inverse= [[A[1][1]/d, -A[0][1]/d],[-A[1][0]/d, A[0][0]/d]]\n",
        "\n",
        "  x = [0.0, 0.0]\n",
        "  for i in range(2):\n",
        "        x[i] = inverse[i][0] * b[0] + inverse[i][1] * b[1]\n",
        "  return np.array([x[0], x[1]], dtype=float)\n",
        "\n",
        "#Implicit Euler Algorithm\n",
        "def implicit_euler(f: Function, t: float, x: Vector, h: float) -> Vector:\n",
        "  \"\"\"\n",
        "  The approximate of the exact solution to the ODE dx/dt = f(t, x) ar\n",
        "  time t + h, x is the value of the solution at time t, h is the time step\n",
        "\n",
        "  t: real number\n",
        "  h: real number\n",
        "  x: 2-dimensional real vector\n",
        "  f: 2-dimensional real-vector-valued function \n",
        "  \"\"\"\n",
        "  y = x + h*f(t,x)\n",
        "  for _ in range(30): #You can change this number of Newton steps!\n",
        "    A = np.eye(2) - h*jacobian_x(f,t,y)\n",
        "    b =  y - x - h * f(t, y)\n",
        "    y -= solve_system(A, b)\n",
        "  return y\n",
        "\n",
        "   #=================================for test only================================\n",
        "x0 = np.array([1,1],dtype=float) #init\n",
        "t0 = 0 #init time\n",
        "h = 0.1 #step\n",
        "\n",
        "t_vals = [t0]\n",
        "x_vals = [x0]\n",
        "x2_vals = [x0]\n",
        "for i in range(100):\n",
        "    x1 = explicit_euler(example0, t0, x0, h)\n",
        "    x2 = implicit_euler(example0,t0,x0,h)\n",
        "    x0 = x1\n",
        "    t0 = t0 + h\n",
        "    t_vals.append(t0)\n",
        "    x_vals.append(x1)\n",
        "    x2_vals.append(x2)\n",
        "x_vals = np.array(x_vals)\n",
        "x2_vals=np.array(x2_vals)\n",
        "# Plot the solution\n",
        "# Plot the first set of data on the first subplot\n",
        "fig, (ax1, ax2) = plt.subplots(1, 2, figsize=(20, 4))\n",
        "ax1.plot(t_vals, x_vals[:, 0], label='Romeo(t)-Explicit')\n",
        "ax1.plot(t_vals, x_vals[:, 1], label='Juliet(t)-Explicit')\n",
        "ax1.set_xlabel('Time')\n",
        "ax1.set_ylabel('Love for the other')\n",
        "ax1.legend()\n",
        "\n",
        "# Plot the second set of data on the second subplot\n",
        "ax2.plot(t_vals, x2_vals[:, 0], label='Romeo(t)-Implicit')\n",
        "ax2.plot(t_vals, x2_vals[:, 1], label='Juliet(t)-Implicit')\n",
        "ax2.set_xlabel('Time')\n",
        "ax2.set_ylabel('Love for the other')\n",
        "ax2.legend()\n",
        "\n",
        "# Display the figure\n",
        "plt.show()"
      ]
    },
    {
      "cell_type": "markdown",
      "metadata": {
        "id": "1Ri2YEH0PoSr"
      },
      "source": [
        "2) Write codes to obtain a similar plot to the [plot](https://tinyurl.com/4fpt9xvk) of the example example0 where $A=\\begin{pmatrix}1 & -1 \\\\ 2 & 1 \\end{pmatrix}$ the initial value $\\textbf{x}_0=\\begin{pmatrix}1 \\\\ 1\\end{pmatrix}$. The codes must also work for the other examples! (*2.0 points*)"
      ]
    },
    {
      "cell_type": "code",
      "execution_count": null,
      "metadata": {
        "id": "KSXsbD2rQs_m"
      },
      "outputs": [],
      "source": [
        "#Plot here!"
      ]
    },
    {
      "cell_type": "code",
      "execution_count": null,
      "metadata": {
        "id": "14ISgtLP9V51"
      },
      "outputs": [],
      "source": [
        "#Leave this empty!"
      ]
    },
    {
      "cell_type": "markdown",
      "metadata": {
        "id": "sS9E9hHz9rap"
      },
      "source": [
        "# **References**"
      ]
    },
    {
      "cell_type": "markdown",
      "metadata": {
        "id": "ChZsSCqZ9wp4"
      },
      "source": [
        "\n",
        "[1] *Differential Equations: Qualitative Methods,* https://metric.ma.ic.ac.uk/metric_public/differential_equations/second_order/qualitative_methods_1.html\n",
        "\n",
        "[2] *Stability and classification of isolated critical points*, https://web.uvic.ca/~tbazett/diffyqs/nlinstability_section.html\n",
        "\n",
        "\n"
      ]
    },
    {
      "cell_type": "markdown",
      "metadata": {
        "id": "h7M-FMp19-BE"
      },
      "source": [
        "\n",
        "\n",
        "---\n",
        "\n"
      ]
    },
    {
      "cell_type": "markdown",
      "metadata": {
        "id": "v4xWYQHf-BIH"
      },
      "source": [
        "# Exercise 4 (Optional)\n",
        "You should provide the answer to this question as a separate Ipython notebook!"
      ]
    },
    {
      "cell_type": "code",
      "execution_count": null,
      "metadata": {
        "id": "4OzOH3MB9W_-"
      },
      "outputs": [],
      "source": [
        "#Leave this empty!"
      ]
    },
    {
      "cell_type": "markdown",
      "metadata": {
        "id": "VjJ3qShiA2Xk"
      },
      "source": [
        "\n",
        "\n",
        "---\n",
        "\n"
      ]
    }
  ],
  "metadata": {
    "colab": {
      "include_colab_link": true,
      "provenance": []
    },
    "kernelspec": {
      "display_name": "Python 3",
      "name": "python3"
    },
    "language_info": {
      "codemirror_mode": {
        "name": "ipython",
        "version": 3
      },
      "file_extension": ".py",
      "mimetype": "text/x-python",
      "name": "python",
      "nbconvert_exporter": "python",
      "pygments_lexer": "ipython3",
      "version": "3.11.3"
    }
  },
  "nbformat": 4,
  "nbformat_minor": 0
}
